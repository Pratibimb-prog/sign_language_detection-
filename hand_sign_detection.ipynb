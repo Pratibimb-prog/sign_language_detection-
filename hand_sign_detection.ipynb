{
  "nbformat": 4,
  "nbformat_minor": 0,
  "metadata": {
    "colab": {
      "provenance": []
    },
    "kernelspec": {
      "name": "python3",
      "display_name": "Python 3"
    },
    "language_info": {
      "name": "python"
    }
  },
  "cells": [
    {
      "cell_type": "code",
      "execution_count": 1,
      "metadata": {
        "id": "Rz3jLO8Kwakc"
      },
      "outputs": [],
      "source": [
        "import pandas as pd\n",
        "import numpy as np"
      ]
    },
    {
      "cell_type": "code",
      "source": [
        "import matplotlib.pyplot as plt"
      ],
      "metadata": {
        "id": "BuTHe7sCwiD_"
      },
      "execution_count": 2,
      "outputs": []
    },
    {
      "cell_type": "code",
      "source": [
        "from sklearn.model_selection import train_test_split\n",
        "from tensorflow.keras.utils import to_categorical\n",
        "from tensorflow.keras.models import Sequential\n",
        "from tensorflow.keras.layers import Dense, Dropout, Flatten, Conv2D, MaxPooling2D"
      ],
      "metadata": {
        "id": "YiY08OBfwiGv"
      },
      "execution_count": 3,
      "outputs": []
    },
    {
      "cell_type": "code",
      "source": [
        "from tensorflow.keras.models import load_model\n",
        "from tensorflow.keras.preprocessing.image import ImageDataGenerator\n",
        "import tensorflow as tf"
      ],
      "metadata": {
        "id": "8s38p4fLwiJk"
      },
      "execution_count": 4,
      "outputs": []
    },
    {
      "cell_type": "code",
      "source": [
        "train=pd.read_csv(\"/content/sign_mnist_train.csv\")\n",
        "test=pd.read_csv(\"/content/sign_mnist_test.csv\")"
      ],
      "metadata": {
        "id": "Ur2sB7-7wiMM"
      },
      "execution_count": 5,
      "outputs": []
    },
    {
      "cell_type": "code",
      "source": [
        "X_train=train.iloc[:,1:].values\n",
        "X_test=test.iloc[:,1:].values\n",
        "y_train=train.iloc[:,0].values\n",
        "y_test=test.iloc[:,0].values"
      ],
      "metadata": {
        "id": "RUse3edS2rON"
      },
      "execution_count": 6,
      "outputs": []
    },
    {
      "cell_type": "code",
      "source": [
        "y_train"
      ],
      "metadata": {
        "colab": {
          "base_uri": "https://localhost:8080/"
        },
        "id": "DDSYC4lD2rRC",
        "outputId": "50c5e447-b410-4d2d-e7a6-c62e531ebf72"
      },
      "execution_count": null,
      "outputs": [
        {
          "output_type": "execute_result",
          "data": {
            "text/plain": [
              "array([ 3,  6,  2, ..., 18, 17, 23])"
            ]
          },
          "metadata": {},
          "execution_count": 7
        }
      ]
    },
    {
      "cell_type": "code",
      "source": [
        "X_train=X_train.reshape(-1,28,28,1).astype(\"float32\")\n",
        "X_test=X_test.reshape(-1,28,28,1).astype(\"float32\")"
      ],
      "metadata": {
        "id": "gjV2GRd52rTx"
      },
      "execution_count": null,
      "outputs": []
    },
    {
      "cell_type": "code",
      "source": [
        "plt.imshow(X_test[2].squeeze(), cmap='gray', vmin=0, vmax=1, interpolation='nearest')\n",
        "plt.axis('off')"
      ],
      "metadata": {
        "colab": {
          "base_uri": "https://localhost:8080/",
          "height": 423
        },
        "id": "ytavkTj_2rWB",
        "outputId": "d361906f-ba01-480b-cb5f-320f0c998378"
      },
      "execution_count": 26,
      "outputs": [
        {
          "output_type": "execute_result",
          "data": {
            "text/plain": [
              "(np.float64(-0.5), np.float64(27.5), np.float64(27.5), np.float64(-0.5))"
            ]
          },
          "metadata": {},
          "execution_count": 26
        },
        {
          "output_type": "display_data",
          "data": {
            "text/plain": [
              "<Figure size 640x480 with 1 Axes>"
            ],
            "image/png": "[encoded data removed]"
          },
          "metadata": {}
        }
      ]
    },
    {
      "cell_type": "code",
      "source": [
        "y_train=to_categorical(y_train,26)\n",
        "y_test=to_categorical(y_test,26)"
      ],
      "metadata": {
        "id": "p_OVjggA2rbS"
      },
      "execution_count": 9,
      "outputs": []
    },
    {
      "cell_type": "code",
      "source": [
        "X_train = X_train.reshape(-1, 28, 28, 1).astype(\"float32\") / 255.0\n",
        "X_test = X_test.reshape(-1, 28, 28, 1).astype(\"float32\") / 255.0"
      ],
      "metadata": {
        "id": "DzmFBrGjZ_bo"
      },
      "execution_count": 10,
      "outputs": []
    },
    {
      "cell_type": "code",
      "source": [
        "data_gen=ImageDataGenerator(rotation_range=15, width_shift_range=0.1, height_shift_range=0.1, shear_range=0.2, zoom_range=0.2, horizontal_flip=False)"
      ],
      "metadata": {
        "id": "8bU4i2o-2reH"
      },
      "execution_count": 11,
      "outputs": []
    },
    {
      "cell_type": "code",
      "source": [
        "data_gen.fit(X_train)"
      ],
      "metadata": {
        "id": "E0KHnlYt2rgF"
      },
      "execution_count": 12,
      "outputs": []
    },
    {
      "cell_type": "code",
      "source": [
        "model=Sequential([\n",
        "    Conv2D(32,(3,3), activation='relu', input_shape=(28,28,1)),\n",
        "    MaxPooling2D((2,2)),\n",
        "\n",
        "    Conv2D(64,(3,3), activation='relu'),\n",
        "    MaxPooling2D((2,2)),\n",
        "\n",
        "    Conv2D(128,(3,3), activation='relu'),\n",
        "    MaxPooling2D((2,2)),\n",
        "    Flatten(),\n",
        "    Dense(128, activation='relu'),\n",
        "    Dropout(0.3),\n",
        "    Dense(26, activation='softmax')\n",
        "])"
      ],
      "metadata": {
        "colab": {
          "base_uri": "https://localhost:8080/"
        },
        "id": "Rl9RvARF2riw",
        "outputId": "dd4c355f-5f31-4164-ab89-c3fe0d4112c5"
      },
      "execution_count": null,
      "outputs": [
        {
          "output_type": "stream",
          "name": "stderr",
          "text": [
            "/usr/local/lib/python3.11/dist-packages/keras/src/layers/convolutional/base_conv.py:107: UserWarning: Do not pass an `input_shape`/`input_dim` argument to a layer. When using Sequential models, prefer using an `Input(shape)` object as the first layer in the model instead.\n",
            "  super().__init__(activity_regularizer=activity_regularizer, **kwargs)\n"
          ]
        }
      ]
    },
    {
      "cell_type": "code",
      "source": [
        "model.compile(optimizer='adam', loss='categorical_crossentropy', metrics=['accuracy'])"
      ],
      "metadata": {
        "id": "ugpNes4w2rlh"
      },
      "execution_count": null,
      "outputs": []
    },
    {
      "cell_type": "code",
      "source": [
        "history=model.fit(\n",
        "    data_gen.flow(X_train, y_train,batch_size=64),\n",
        "    validation_data=(X_test, y_test),\n",
        "    epochs=20,\n",
        "    steps_per_epoch=len(X_train)//64\n",
        "    )"
      ],
      "metadata": {
        "colab": {
          "base_uri": "https://localhost:8080/"
        },
        "id": "TXCZ12-t2rn7",
        "outputId": "57a69ac9-1d12-4879-c7e6-5ed5404e3b33"
      },
      "execution_count": null,
      "outputs": [
        {
          "output_type": "stream",
          "name": "stdout",
          "text": [
            "Epoch 1/20\n"
          ]
        },
        {
          "output_type": "stream",
          "name": "stderr",
          "text": [
            "/usr/local/lib/python3.11/dist-packages/keras/src/trainers/data_adapters/py_dataset_adapter.py:121: UserWarning: Your `PyDataset` class should call `super().__init__(**kwargs)` in its constructor. `**kwargs` can include `workers`, `use_multiprocessing`, `max_queue_size`. Do not pass these arguments to `fit()`, as they will be ignored.\n",
            "  self._warn_if_super_not_called()\n"
          ]
        },
        {
          "output_type": "stream",
          "name": "stdout",
          "text": [
            "\u001b[1m428/428\u001b[0m \u001b[32m━━━━━━━━━━━━━━━━━━━━\u001b[0m\u001b[37m\u001b[0m \u001b[1m35s\u001b[0m 76ms/step - accuracy: 0.1204 - loss: 2.9122 - val_accuracy: 0.5807 - val_loss: 1.4287\n",
            "Epoch 2/20\n",
            "\u001b[1m  1/428\u001b[0m \u001b[37m━━━━━━━━━━━━━━━━━━━━\u001b[0m \u001b[1m19s\u001b[0m 45ms/step - accuracy: 0.4531 - loss: 1.7498"
          ]
        },
        {
          "output_type": "stream",
          "name": "stderr",
          "text": [
            "/usr/local/lib/python3.11/dist-packages/keras/src/trainers/epoch_iterator.py:107: UserWarning: Your input ran out of data; interrupting training. Make sure that your dataset or generator can generate at least `steps_per_epoch * epochs` batches. You may need to use the `.repeat()` function when building your dataset.\n",
            "  self._interrupted_warning()\n"
          ]
        },
        {
          "output_type": "stream",
          "name": "stdout",
          "text": [
            "\b\b\b\b\b\b\b\b\b\b\b\b\b\b\b\b\b\b\b\b\b\b\b\b\b\b\b\b\b\b\b\b\b\b\b\b\b\b\b\b\b\b\b\b\b\b\b\b\b\b\b\b\b\b\b\b\b\b\b\b\b\b\b\b\b\b\b\b\b\b\b\b\b\b\b\b\r\u001b[1m428/428\u001b[0m \u001b[32m━━━━━━━━━━━━━━━━━━━━\u001b[0m\u001b[37m\u001b[0m \u001b[1m2s\u001b[0m 4ms/step - accuracy: 0.4531 - loss: 1.7498 - val_accuracy: 0.5859 - val_loss: 1.4257\n",
            "Epoch 3/20\n",
            "\u001b[1m428/428\u001b[0m \u001b[32m━━━━━━━━━━━━━━━━━━━━\u001b[0m\u001b[37m\u001b[0m \u001b[1m39s\u001b[0m 76ms/step - accuracy: 0.4769 - loss: 1.5656 - val_accuracy: 0.7280 - val_loss: 0.7460\n",
            "Epoch 4/20\n",
            "\u001b[1m428/428\u001b[0m \u001b[32m━━━━━━━━━━━━━━━━━━━━\u001b[0m\u001b[37m\u001b[0m \u001b[1m3s\u001b[0m 6ms/step - accuracy: 0.5781 - loss: 1.0919 - val_accuracy: 0.7328 - val_loss: 0.7427\n",
            "Epoch 5/20\n",
            "\u001b[1m428/428\u001b[0m \u001b[32m━━━━━━━━━━━━━━━━━━━━\u001b[0m\u001b[37m\u001b[0m \u001b[1m37s\u001b[0m 74ms/step - accuracy: 0.6409 - loss: 1.0567 - val_accuracy: 0.8250 - val_loss: 0.5321\n",
            "Epoch 6/20\n",
            "\u001b[1m428/428\u001b[0m \u001b[32m━━━━━━━━━━━━━━━━━━━━\u001b[0m\u001b[37m\u001b[0m \u001b[1m2s\u001b[0m 5ms/step - accuracy: 0.6250 - loss: 0.9690 - val_accuracy: 0.8331 - val_loss: 0.5114\n",
            "Epoch 7/20\n",
            "\u001b[1m428/428\u001b[0m \u001b[32m━━━━━━━━━━━━━━━━━━━━\u001b[0m\u001b[37m\u001b[0m \u001b[1m32s\u001b[0m 74ms/step - accuracy: 0.7185 - loss: 0.8271 - val_accuracy: 0.8652 - val_loss: 0.3942\n",
            "Epoch 8/20\n",
            "\u001b[1m428/428\u001b[0m \u001b[32m━━━━━━━━━━━━━━━━━━━━\u001b[0m\u001b[37m\u001b[0m \u001b[1m3s\u001b[0m 6ms/step - accuracy: 0.7969 - loss: 0.5125 - val_accuracy: 0.8585 - val_loss: 0.4091\n",
            "Epoch 9/20\n",
            "\u001b[1m428/428\u001b[0m \u001b[32m━━━━━━━━━━━━━━━━━━━━\u001b[0m\u001b[37m\u001b[0m \u001b[1m37s\u001b[0m 72ms/step - accuracy: 0.7694 - loss: 0.6596 - val_accuracy: 0.8943 - val_loss: 0.3092\n",
            "Epoch 10/20\n",
            "\u001b[1m428/428\u001b[0m \u001b[32m━━━━━━━━━━━━━━━━━━━━\u001b[0m\u001b[37m\u001b[0m \u001b[1m2s\u001b[0m 4ms/step - accuracy: 0.7812 - loss: 0.6101 - val_accuracy: 0.8922 - val_loss: 0.3049\n",
            "Epoch 11/20\n",
            "\u001b[1m428/428\u001b[0m \u001b[32m━━━━━━━━━━━━━━━━━━━━\u001b[0m\u001b[37m\u001b[0m \u001b[1m33s\u001b[0m 76ms/step - accuracy: 0.8073 - loss: 0.5567 - val_accuracy: 0.9052 - val_loss: 0.2789\n",
            "Epoch 12/20\n",
            "\u001b[1m428/428\u001b[0m \u001b[32m━━━━━━━━━━━━━━━━━━━━\u001b[0m\u001b[37m\u001b[0m \u001b[1m3s\u001b[0m 6ms/step - accuracy: 0.7969 - loss: 0.4543 - val_accuracy: 0.9070 - val_loss: 0.2690\n",
            "Epoch 13/20\n",
            "\u001b[1m428/428\u001b[0m \u001b[32m━━━━━━━━━━━━━━━━━━━━\u001b[0m\u001b[37m\u001b[0m \u001b[1m32s\u001b[0m 74ms/step - accuracy: 0.8391 - loss: 0.4754 - val_accuracy: 0.9368 - val_loss: 0.1835\n",
            "Epoch 14/20\n",
            "\u001b[1m428/428\u001b[0m \u001b[32m━━━━━━━━━━━━━━━━━━━━\u001b[0m\u001b[37m\u001b[0m \u001b[1m2s\u001b[0m 5ms/step - accuracy: 0.8906 - loss: 0.4857 - val_accuracy: 0.9437 - val_loss: 0.1708\n",
            "Epoch 15/20\n",
            "\u001b[1m428/428\u001b[0m \u001b[32m━━━━━━━━━━━━━━━━━━━━\u001b[0m\u001b[37m\u001b[0m \u001b[1m32s\u001b[0m 74ms/step - accuracy: 0.8577 - loss: 0.4132 - val_accuracy: 0.9152 - val_loss: 0.2136\n",
            "Epoch 16/20\n",
            "\u001b[1m428/428\u001b[0m \u001b[32m━━━━━━━━━━━━━━━━━━━━\u001b[0m\u001b[37m\u001b[0m \u001b[1m3s\u001b[0m 6ms/step - accuracy: 0.8438 - loss: 0.3067 - val_accuracy: 0.9069 - val_loss: 0.2352\n",
            "Epoch 17/20\n",
            "\u001b[1m428/428\u001b[0m \u001b[32m━━━━━━━━━━━━━━━━━━━━\u001b[0m\u001b[37m\u001b[0m \u001b[1m33s\u001b[0m 78ms/step - accuracy: 0.8727 - loss: 0.3700 - val_accuracy: 0.9615 - val_loss: 0.1187\n",
            "Epoch 18/20\n",
            "\u001b[1m428/428\u001b[0m \u001b[32m━━━━━━━━━━━━━━━━━━━━\u001b[0m\u001b[37m\u001b[0m \u001b[1m2s\u001b[0m 4ms/step - accuracy: 0.8594 - loss: 0.3194 - val_accuracy: 0.9594 - val_loss: 0.1176\n",
            "Epoch 19/20\n",
            "\u001b[1m428/428\u001b[0m \u001b[32m━━━━━━━━━━━━━━━━━━━━\u001b[0m\u001b[37m\u001b[0m \u001b[1m32s\u001b[0m 75ms/step - accuracy: 0.8892 - loss: 0.3244 - val_accuracy: 0.9725 - val_loss: 0.1014\n",
            "Epoch 20/20\n",
            "\u001b[1m428/428\u001b[0m \u001b[32m━━━━━━━━━━━━━━━━━━━━\u001b[0m\u001b[37m\u001b[0m \u001b[1m5s\u001b[0m 12ms/step - accuracy: 0.8594 - loss: 0.4095 - val_accuracy: 0.9756 - val_loss: 0.0893\n"
          ]
        }
      ]
    },
    {
      "cell_type": "code",
      "source": [
        "model.save(\"sign_mnist_model.keras\")"
      ],
      "metadata": {
        "id": "GtLJsHyXqg7j"
      },
      "execution_count": null,
      "outputs": []
    },
    {
      "cell_type": "code",
      "source": [
        "import tensorflow as tf"
      ],
      "metadata": {
        "id": "eE9HvFT7Iiue"
      },
      "execution_count": 7,
      "outputs": []
    },
    {
      "cell_type": "code",
      "source": [
        "model = tf.keras.models.load_model('/content/sign_mnist_model.keras')"
      ],
      "metadata": {
        "id": "Y3y0xVV6qX30"
      },
      "execution_count": 8,
      "outputs": []
    },
    {
      "cell_type": "code",
      "source": [
        "X_test[0].shape"
      ],
      "metadata": {
        "colab": {
          "base_uri": "https://localhost:8080/"
        },
        "id": "fL55_dx9Iu-5",
        "outputId": "964f92e9-801a-476b-f62c-a7dc150772bf"
      },
      "execution_count": 13,
      "outputs": [
        {
          "output_type": "execute_result",
          "data": {
            "text/plain": [
              "(28, 28, 1)"
            ]
          },
          "metadata": {},
          "execution_count": 13
        }
      ]
    },
    {
      "cell_type": "code",
      "source": [
        "single_image_input = X_test[2:3]\n",
        "\n",
        "prediction = model.predict(single_image_input)"
      ],
      "metadata": {
        "id": "HTQqK1hamqhd",
        "colab": {
          "base_uri": "https://localhost:8080/"
        },
        "outputId": "d340b1de-91d4-475f-a973-c039672ba3a9"
      },
      "execution_count": 27,
      "outputs": [
        {
          "output_type": "stream",
          "name": "stdout",
          "text": [
            "\u001b[1m1/1\u001b[0m \u001b[32m━━━━━━━━━━━━━━━━━━━━\u001b[0m\u001b[37m\u001b[0m \u001b[1m0s\u001b[0m 32ms/step\n"
          ]
        }
      ]
    },
    {
      "cell_type": "code",
      "source": [
        "print(prediction)"
      ],
      "metadata": {
        "id": "o0hsd-Obmqka",
        "colab": {
          "base_uri": "https://localhost:8080/"
        },
        "outputId": "140413e4-9ba9-4c77-e074-83429096ba9e"
      },
      "execution_count": 28,
      "outputs": [
        {
          "output_type": "stream",
          "name": "stdout",
          "text": [
            "[[7.5112354e-14 1.1747409e-10 9.7333102e-20 1.0229694e-10 5.9112926e-16\n",
            "  2.6098096e-13 9.3771371e-17 2.6018209e-18 3.0038121e-11 2.0609427e-19\n",
            "  9.9980360e-01 1.2788400e-06 5.1788090e-15 7.2553581e-09 4.9037033e-15\n",
            "  1.2665455e-09 2.7092791e-16 1.8942852e-04 9.6060875e-09 4.9885883e-15\n",
            "  2.8905629e-07 2.9211531e-06 6.9339379e-08 6.8577624e-14 2.4357062e-06\n",
            "  5.9343262e-20]]\n"
          ]
        }
      ]
    },
    {
      "cell_type": "code",
      "source": [
        "print(np.argmax(prediction))"
      ],
      "metadata": {
        "id": "0gLdomKKTeyC",
        "colab": {
          "base_uri": "https://localhost:8080/"
        },
        "outputId": "dfbc3cee-b956-4779-fdf5-36970aea0a24"
      },
      "execution_count": 29,
      "outputs": [
        {
          "output_type": "stream",
          "name": "stdout",
          "text": [
            "10\n"
          ]
        }
      ]
    },
    {
      "cell_type": "code",
      "source": [
        "def get_letter(predicted_class):\n",
        "  label_map = {i: chr(65 + i) for i in range(26)}\n",
        "  predicted_letter = label_map[predicted_class]\n",
        "  return predicted_letter"
      ],
      "metadata": {
        "id": "htCR7YFMTe31"
      },
      "execution_count": 30,
      "outputs": []
    },
    {
      "cell_type": "code",
      "source": [
        "pred=get_letter(predicted_class=np.argmax(prediction))\n",
        "pred"
      ],
      "metadata": {
        "id": "Tv6hgRQgTe6u",
        "colab": {
          "base_uri": "https://localhost:8080/",
          "height": 36
        },
        "outputId": "55d22ea1-dbae-4caf-f722-ab145877fc02"
      },
      "execution_count": 32,
      "outputs": [
        {
          "output_type": "execute_result",
          "data": {
            "text/plain": [
              "'K'"
            ],
            "application/vnd.google.colaboratory.intrinsic+json": {
              "type": "string"
            }
          },
          "metadata": {},
          "execution_count": 32
        }
      ]
    },
    {
      "cell_type": "code",
      "source": [],
      "metadata": {
        "id": "GcY6eXJVTe9U"
      },
      "execution_count": null,
      "outputs": []
    },
    {
      "cell_type": "code",
      "source": [],
      "metadata": {
        "id": "tluk2CUvTe_8"
      },
      "execution_count": null,
      "outputs": []
    }
  ]
}